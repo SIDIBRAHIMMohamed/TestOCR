{
 "cells": [
  {
   "cell_type": "markdown",
   "metadata": {},
   "source": [
    "##  L'implementation de l'OCR"
   ]
  },
  {
   "cell_type": "code",
   "execution_count": 1,
   "metadata": {},
   "outputs": [],
   "source": [
    "import pytesseract\n",
    "from PIL import Image\n",
    "from pytesseract import Output\n",
    "import json\n",
    "import cv2"
   ]
  },
  {
   "cell_type": "code",
   "execution_count": 2,
   "metadata": {},
   "outputs": [],
   "source": [
    "img_file = \"data/Genova.png\"\n",
    "no_noise = \"temp/no_noise.png\"\n",
    "\n"
   ]
  },
  {
   "cell_type": "code",
   "execution_count": 3,
   "metadata": {},
   "outputs": [
    {
     "data": {
      "image/png": "[encoded data removed]",
      "text/plain": [
       "<PIL.PngImagePlugin.PngImageFile image mode=L size=739x550 at 0x7A0D58F461D0>"
      ]
     },
     "metadata": {},
     "output_type": "display_data"
    }
   ],
   "source": [
    "img1 = Image.open(no_noise)\n",
    "display(img1)"
   ]
  },
  {
   "cell_type": "code",
   "execution_count": 4,
   "metadata": {},
   "outputs": [],
   "source": [
    "myconfig = r'--oem 3 --psm 6 -l fra '"
   ]
  },
  {
   "cell_type": "code",
   "execution_count": 5,
   "metadata": {},
   "outputs": [],
   "source": [
    "# # Utiliser Tesseract pour extraire des données sur le texte\n",
    "data = pytesseract.image_to_data(img1, config=myconfig, output_type=Output.DICT)\n"
   ]
  },
  {
   "cell_type": "code",
   "execution_count": 6,
   "metadata": {},
   "outputs": [
    {
     "name": "stdout",
     "output_type": "stream",
     "text": [
      "Les informations ont été enregistrées dans 'infos_texte.json'.\n"
     ]
    }
   ],
   "source": [
    "# Extraire les informations sur le texte, la position et la confiance pour les mots avec un taux de confiance supérieur à 80%\n",
    "texts = []\n",
    "for i in range(len(data['text'])):\n",
    "    # Vérifier si le texte extrait est valide et a une position définie\n",
    "    if int(data['conf'][i]) > 85 and 'text' in data and 'left' in data and 'top' in data and 'width' in data and 'height' in data:\n",
    "        # Créer un dictionnaire contenant le texte, la position et la confiance\n",
    "        text_info = {\n",
    "            'text': data['text'][i],\n",
    "            'left': data['left'][i],\n",
    "            'top': data['top'][i],\n",
    "            'width': data['width'][i],\n",
    "            'height': data['height'][i],\n",
    "            'conf': data['conf'][i]\n",
    "        }\n",
    "        texts.append(text_info)\n",
    "\n",
    "# Enregistrer les informations extraites dans un fichier JSON\n",
    "with open('infos_texte.json', 'w') as json_file:\n",
    "    json.dump(texts, json_file, indent=4)\n",
    "\n",
    "print(\"Les informations ont été enregistrées dans 'infos_texte.json'.\")"
   ]
  }
 ],
 "metadata": {
  "kernelspec": {
   "display_name": "Python 3 (ipykernel)",
   "language": "python",
   "name": "python3"
  },
  "language_info": {
   "codemirror_mode": {
    "name": "ipython",
    "version": 3
   },
   "file_extension": ".py",
   "mimetype": "text/x-python",
   "name": "python",
   "nbconvert_exporter": "python",
   "pygments_lexer": "ipython3",
   "version": "3.10.12"
  }
 },
 "nbformat": 4,
 "nbformat_minor": 4
}
